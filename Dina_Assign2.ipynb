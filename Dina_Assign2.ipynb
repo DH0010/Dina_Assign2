{
  "nbformat": 4,
  "nbformat_minor": 0,
  "metadata": {
    "colab": {
      "name": "Dina_Assign2.ipynb",
      "provenance": [],
      "collapsed_sections": []
    },
    "kernelspec": {
      "name": "python3",
      "display_name": "Python 3"
    },
    "language_info": {
      "name": "python"
    }
  },
  "cells": [
    {
      "cell_type": "code",
      "execution_count": 13,
      "metadata": {
        "id": "IYFNnzDm4WEv",
        "colab": {
          "base_uri": "https://localhost:8080/"
        },
        "outputId": "cd12fcb1-afa4-4158-a4a8-38edb884d470"
      },
      "outputs": [
        {
          "output_type": "stream",
          "name": "stdout",
          "text": [
            "start\n",
            "s\n",
            "sentence\n"
          ]
        }
      ],
      "source": [
        "#Use for, .split(), and if to create a Statement that will print out words that start with 's':\n",
        "st = 'Print only the words that start with s in this sentence'\n",
        "\n",
        "for char in st.split():\n",
        "  if char[0]=='s':\n",
        "    print (char)"
      ]
    },
    {
      "cell_type": "code",
      "source": [
        "# Use range() to print all the even numbers from 0 to 10.\n",
        "for i in range(0, 11):\n",
        "     if i % 2 == 0:\n",
        "        print(i, end = \" \")\n",
        " "
      ],
      "metadata": {
        "id": "tZycCZbh4ifu",
        "colab": {
          "base_uri": "https://localhost:8080/"
        },
        "outputId": "73ea76e6-3b50-4a5c-ebc8-afcc6c19d2ca"
      },
      "execution_count": 14,
      "outputs": [
        {
          "output_type": "stream",
          "name": "stdout",
          "text": [
            "0 2 4 6 8 10 "
          ]
        }
      ]
    },
    {
      "cell_type": "code",
      "source": [
        "# Use a List Comprehension to create a list of all numbers between 1 and 50 that are divisible by 3.\n",
        "list1=[x for x in range (0, 51) if x % 3 == 0]\n",
        "print(list1)"
      ],
      "metadata": {
        "id": "waQWX7ps4mJA",
        "colab": {
          "base_uri": "https://localhost:8080/"
        },
        "outputId": "3599dae4-9b3a-4407-9479-34b331157832"
      },
      "execution_count": 18,
      "outputs": [
        {
          "output_type": "stream",
          "name": "stdout",
          "text": [
            "[0, 3, 6, 9, 12, 15, 18, 21, 24, 27, 30, 33, 36, 39, 42, 45, 48]\n"
          ]
        }
      ]
    },
    {
      "cell_type": "code",
      "source": [
        "# Go through the string below and if the length of a word is even print \"even!\"\n",
        "\n",
        "st = 'Print every word in this sentence that has an even number of letters'\n",
        "#Code in this cell\n",
        "for word in st.split():\n",
        "  if len(word) %2 ==0 : \n",
        "    print(word, \"even\")\n"
      ],
      "metadata": {
        "id": "j9KhwmKP4m_b",
        "colab": {
          "base_uri": "https://localhost:8080/"
        },
        "outputId": "fee5c3d8-2f2f-4ff9-e70a-22a289656a47"
      },
      "execution_count": 21,
      "outputs": [
        {
          "output_type": "stream",
          "name": "stdout",
          "text": [
            "word even\n",
            "in even\n",
            "this even\n",
            "sentence even\n",
            "that even\n",
            "an even\n",
            "even even\n",
            "number even\n",
            "of even\n"
          ]
        }
      ]
    },
    {
      "cell_type": "code",
      "source": [
        "#Write a program that prints the integers from 1 to 100. But for multiples of three print \"Fizz\" instead of the number, and for the multiples of five print \"Buzz\". For numbers which are multiples of both three and five print \"FizzBuzz\".\n",
        "for i in range (1, 100):\n",
        "  if (i%3 == 0) and (i % 5 == 0):\n",
        "    print(\"FizzBuzz\",i)\n",
        "  elif i % 3 == 0:\n",
        "      print(\"Fizz\",i)\n",
        "  elif (i%5==0):\n",
        "        print(\"Buzz\",i)\n",
        "  else:\n",
        "      print(i)\n"
      ],
      "metadata": {
        "id": "VPzT1gcu4r3A",
        "colab": {
          "base_uri": "https://localhost:8080/"
        },
        "outputId": "71471c0b-f6a4-4cdb-84bb-1f9072262bae"
      },
      "execution_count": 26,
      "outputs": [
        {
          "output_type": "stream",
          "name": "stdout",
          "text": [
            "1\n",
            "2\n",
            "Fizz 3\n",
            "4\n",
            "Buzz 5\n",
            "Fizz 6\n",
            "7\n",
            "8\n",
            "Fizz 9\n",
            "Buzz 10\n",
            "11\n",
            "Fizz 12\n",
            "13\n",
            "14\n",
            "FizzBuzz 15\n",
            "16\n",
            "17\n",
            "Fizz 18\n",
            "19\n",
            "Buzz 20\n",
            "Fizz 21\n",
            "22\n",
            "23\n",
            "Fizz 24\n",
            "Buzz 25\n",
            "26\n",
            "Fizz 27\n",
            "28\n",
            "29\n",
            "FizzBuzz 30\n",
            "31\n",
            "32\n",
            "Fizz 33\n",
            "34\n",
            "Buzz 35\n",
            "Fizz 36\n",
            "37\n",
            "38\n",
            "Fizz 39\n",
            "Buzz 40\n",
            "41\n",
            "Fizz 42\n",
            "43\n",
            "44\n",
            "FizzBuzz 45\n",
            "46\n",
            "47\n",
            "Fizz 48\n",
            "49\n",
            "Buzz 50\n",
            "Fizz 51\n",
            "52\n",
            "53\n",
            "Fizz 54\n",
            "Buzz 55\n",
            "56\n",
            "Fizz 57\n",
            "58\n",
            "59\n",
            "FizzBuzz 60\n",
            "61\n",
            "62\n",
            "Fizz 63\n",
            "64\n",
            "Buzz 65\n",
            "Fizz 66\n",
            "67\n",
            "68\n",
            "Fizz 69\n",
            "Buzz 70\n",
            "71\n",
            "Fizz 72\n",
            "73\n",
            "74\n",
            "FizzBuzz 75\n",
            "76\n",
            "77\n",
            "Fizz 78\n",
            "79\n",
            "Buzz 80\n",
            "Fizz 81\n",
            "82\n",
            "83\n",
            "Fizz 84\n",
            "Buzz 85\n",
            "86\n",
            "Fizz 87\n",
            "88\n",
            "89\n",
            "FizzBuzz 90\n",
            "91\n",
            "92\n",
            "Fizz 93\n",
            "94\n",
            "Buzz 95\n",
            "Fizz 96\n",
            "97\n",
            "98\n",
            "Fizz 99\n"
          ]
        }
      ]
    },
    {
      "cell_type": "code",
      "source": [
        "# Use List Comprehension to create a list of the first letters of every word in the string below:\n",
        "\n",
        "st = 'Create a list of the first letters of every word in this string'\n",
        "list1=[word[0] for word in st.split()]\n",
        "print (list1)"
      ],
      "metadata": {
        "id": "GyoBRKL840Al",
        "colab": {
          "base_uri": "https://localhost:8080/"
        },
        "outputId": "5179309a-b3e6-4eb3-f07e-108885f19ef9"
      },
      "execution_count": 27,
      "outputs": [
        {
          "output_type": "stream",
          "name": "stdout",
          "text": [
            "['C', 'a', 'l', 'o', 't', 'f', 'l', 'o', 'e', 'w', 'i', 't', 's']\n"
          ]
        }
      ]
    }
  ]
}